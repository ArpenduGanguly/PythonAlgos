{
 "cells": [
  {
   "cell_type": "markdown",
   "id": "de5e0162",
   "metadata": {},
   "source": [
    "## <font color='Brown'>Working with Modules in Python </font>\n",
    "\n",
    "***\n",
    "**`Through the session, we will cover the following topics:`**\n",
    "* [x] **Import Statement in Python** \n",
    "* [x] **Writing Modules** \n",
    "* [x] **Additional Features on Import Statements**\n",
    "* [x] **Module Search Paths** \n",
    "* [x] **Byte Complied Files**\n",
    "* [x] **Dir() Function** "
   ]
  },
  {
   "cell_type": "markdown",
   "id": "e82eb3c3",
   "metadata": {},
   "source": [
    "#### About Modules\n",
    "\n",
    "As you start working with Python on the interpreter, later when you need to write longer programs you start writing scripts. As your program grows more in the size you may want to split it into several files for easier maintenance as well as reusability of the code. The solution to this is Modules. You can define your most used functions in a module and import it, instead of copying their definitions into different programs. A module can be imported by another program to make use of its functionality.\n",
    "\n",
    "**Simply put, a module is a file consisting of Python code. It can define functions, classes, and variables, and can also include runnable code. Any Python file can be referenced as a module. A file containing Python code, for example: test.py, is called a module, and its name would be test.**\n",
    "\n"
   ]
  },
  {
   "cell_type": "markdown",
   "id": "ec930820",
   "metadata": {},
   "source": [
    "#### 1. Import Statement in Python\n",
    "\n",
    "We can use the import keyword along with the desired module name. "
   ]
  },
  {
   "cell_type": "code",
   "execution_count": null,
   "id": "7cad1d3e",
   "metadata": {},
   "outputs": [],
   "source": [
    "#Example 1\n",
    "import math             #You need to put this command,`import` keyword along with the name of the module you want to import\n",
    "num = 4\n",
    "print(math.sqrt(num))   #Use dot operator to access sqrt() inside module \"math\""
   ]
  },
  {
   "cell_type": "code",
   "execution_count": null,
   "id": "25e5f9e4",
   "metadata": {},
   "outputs": [],
   "source": [
    "#Example 2\n",
    "import operator  # Built in Modules            \n",
    "num = operator.add(5,5)\n",
    "print(num) "
   ]
  },
  {
   "cell_type": "markdown",
   "id": "e06aab42",
   "metadata": {},
   "source": [
    "#### 2. Writing Modules "
   ]
  },
  {
   "cell_type": "code",
   "execution_count": null,
   "id": "41050b16",
   "metadata": {},
   "outputs": [],
   "source": [
    "import calculation            #Importing calculation module\n",
    "print(calculation.add(1,2))   #Calling function defined in add module."
   ]
  },
  {
   "cell_type": "markdown",
   "id": "742f8267",
   "metadata": {},
   "source": [
    "#### 3. Importing Modules"
   ]
  },
  {
   "cell_type": "code",
   "execution_count": null,
   "id": "a19ac151",
   "metadata": {},
   "outputs": [],
   "source": [
    "import calculation            #Importing calculation module\n",
    "print(calculation.add(3,1)) "
   ]
  },
  {
   "cell_type": "code",
   "execution_count": null,
   "id": "571c2370",
   "metadata": {},
   "outputs": [],
   "source": [
    "#Refering to the Docstring - Way 1\n",
    "?calculation.add"
   ]
  },
  {
   "cell_type": "code",
   "execution_count": null,
   "id": "c2f2f12b",
   "metadata": {},
   "outputs": [],
   "source": [
    "#Refering to the Docstring - Way 2\n",
    "help(calculation.add)"
   ]
  },
  {
   "cell_type": "markdown",
   "id": "a316ee28",
   "metadata": {},
   "source": [
    "#### 5. Multiple Imports Statements"
   ]
  },
  {
   "cell_type": "code",
   "execution_count": null,
   "id": "3a271c1f",
   "metadata": {},
   "outputs": [],
   "source": [
    "from calculation import add,sub # Specific Modules"
   ]
  },
  {
   "cell_type": "code",
   "execution_count": null,
   "id": "b32fd325",
   "metadata": {},
   "outputs": [],
   "source": [
    "add(3,1)"
   ]
  },
  {
   "cell_type": "code",
   "execution_count": null,
   "id": "3a7e62dd",
   "metadata": {},
   "outputs": [],
   "source": [
    "sub(3,1)"
   ]
  },
  {
   "cell_type": "code",
   "execution_count": null,
   "id": "92e2f36f",
   "metadata": {},
   "outputs": [],
   "source": [
    "from calculation import * # All Modules"
   ]
  },
  {
   "cell_type": "code",
   "execution_count": null,
   "id": "cee8dbc6",
   "metadata": {},
   "outputs": [],
   "source": [
    "add(3,1)"
   ]
  },
  {
   "cell_type": "code",
   "execution_count": null,
   "id": "e01ec6c0",
   "metadata": {},
   "outputs": [],
   "source": [
    "sub(3,1)"
   ]
  },
  {
   "cell_type": "markdown",
   "id": "fdc61100",
   "metadata": {},
   "source": [
    "#### 6. Renaming the Imported Modules"
   ]
  },
  {
   "cell_type": "code",
   "execution_count": null,
   "id": "4846fbeb",
   "metadata": {},
   "outputs": [],
   "source": [
    "import calculation as cal"
   ]
  },
  {
   "cell_type": "code",
   "execution_count": null,
   "id": "f7c41b29",
   "metadata": {},
   "outputs": [],
   "source": [
    "cal.add(3,1)"
   ]
  },
  {
   "cell_type": "code",
   "execution_count": null,
   "id": "e036302a",
   "metadata": {},
   "outputs": [],
   "source": []
  },
  {
   "cell_type": "markdown",
   "id": "1acb95e7",
   "metadata": {},
   "source": [
    "#### 7. Renaming the Imported Modules"
   ]
  },
  {
   "cell_type": "code",
   "execution_count": 3,
   "id": "f51f8463",
   "metadata": {},
   "outputs": [],
   "source": [
    "import sys\n",
    "import os\n",
    "master_path = R'C:\\Users\\arpendu.ganguly\\GT_Training' # root path\n",
    "function_path = os.path.join(master_path,\"Function\") # branch path\n",
    "input_path = os.path.join(master_path,\"input\") # branch path\n",
    "output_path = os.path.join(master_path,\"output\") # branch path\n",
    "#sys.path.append('function_path')"
   ]
  },
  {
   "cell_type": "code",
   "execution_count": 4,
   "id": "fdae208d",
   "metadata": {},
   "outputs": [
    {
     "data": {
      "text/plain": [
       "'C:\\\\Users\\\\arpendu.ganguly\\\\GT_Training\\\\Function'"
      ]
     },
     "execution_count": 4,
     "metadata": {},
     "output_type": "execute_result"
    }
   ],
   "source": [
    "function_path"
   ]
  },
  {
   "cell_type": "code",
   "execution_count": 5,
   "id": "ade1a519",
   "metadata": {},
   "outputs": [],
   "source": [
    "sys.path.append(function_path)\n",
    "import calculation_new"
   ]
  },
  {
   "cell_type": "code",
   "execution_count": null,
   "id": "31c0c62a",
   "metadata": {},
   "outputs": [],
   "source": [
    "print(calculation_new.add(1,2))"
   ]
  },
  {
   "cell_type": "code",
   "execution_count": null,
   "id": "1f9e89c2",
   "metadata": {},
   "outputs": [],
   "source": []
  }
 ],
 "metadata": {
  "kernelspec": {
   "display_name": "Python 3",
   "language": "python",
   "name": "python3"
  },
  "language_info": {
   "codemirror_mode": {
    "name": "ipython",
    "version": 3
   },
   "file_extension": ".py",
   "mimetype": "text/x-python",
   "name": "python",
   "nbconvert_exporter": "python",
   "pygments_lexer": "ipython3",
   "version": "3.8.8"
  }
 },
 "nbformat": 4,
 "nbformat_minor": 5
}
