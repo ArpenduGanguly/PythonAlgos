{
 "cells": [
  {
   "cell_type": "markdown",
   "id": "de5e0162",
   "metadata": {},
   "source": [
    "## <font color='Brown'>Classes & Methods - Object Oriented Programming in Python </font>\n",
    "\n",
    "***\n",
    "**`Through the session, we will cover the following topics:`**\n",
    "* [x] **Introduction to Object Oriented Programming in Python** \n",
    "* [x] **Creating a class in Python** \n",
    "* [x] **Instantiating Objects**\n",
    "* [x] **Adding attributes to the class** \n",
    "* [x] **Defining methods in a class**\n",
    "* [x] **passing arguments to a methods in a class** "
   ]
  },
  {
   "cell_type": "markdown",
   "id": "e82eb3c3",
   "metadata": {},
   "source": [
    "#### OOP: Introduction\n",
    "\n",
    "**Object-oriented programming is based on the imperative programming paradigm, which uses statements to change a program's state. It focuses on describing how a program should operate.**\n",
    "\n",
    "* Examples of imperative programming languages are C, C++, Java, Go, Ruby and Python \n",
    "* Examples are database query languages like SQL and XQuery, where one only tells the computer what data to query from where, but now how to do it\n",
    "\n",
    "**OOP uses the concept of objects and classes. A class can be thought of as a 'blueprint' for objects. These can have their own attributes (characteristics they possess), and methods (actions they perform)**"
   ]
  },
  {
   "cell_type": "markdown",
   "id": "f4f48172",
   "metadata": {},
   "source": [
    "#### OOP: Example\n",
    "\n",
    "An example of a class is the class Human. Don't think of it as a specific Human, or yourself. We're describing what a Human is and can do, in general. \n",
    "\n",
    "***Humans usually have a name and age; these are instance attributes. Humans can also think; this is a method.***\n",
    " His attributes are name = 'Adam' and age = '22'\n",
    " "
   ]
  },
  {
   "cell_type": "markdown",
   "id": "ec930820",
   "metadata": {},
   "source": [
    "#### 1. Creating a class\n",
    "Classes are a way of combining information and behavior.\n",
    "\n",
    "* class keyword, followed by the class name and a colon\n",
    "* Inside the class, an __init__ method has to be defined with def (use to instantiate objects)\n",
    "* __init__, It takes one argument: self, which refers to the object itself\n",
    "* Inside the method, the pass keyword is used as of now, because Python expects you to type something there"
   ]
  },
  {
   "cell_type": "code",
   "execution_count": null,
   "id": "7cad1d3e",
   "metadata": {},
   "outputs": [],
   "source": [
    "class Human:\n",
    "\n",
    "    def __init__(self):\n",
    "        pass"
   ]
  },
  {
   "cell_type": "markdown",
   "id": "47a3d6d9",
   "metadata": {},
   "source": [
    "***The __init__() method sets the values for any parameters that need to be defined when an object is first created***"
   ]
  },
  {
   "cell_type": "markdown",
   "id": "e06aab42",
   "metadata": {},
   "source": [
    "#### 2. Instantiating objects"
   ]
  },
  {
   "cell_type": "code",
   "execution_count": null,
   "id": "41050b16",
   "metadata": {},
   "outputs": [],
   "source": [
    "adam = Human()#instantiating an object"
   ]
  },
  {
   "cell_type": "code",
   "execution_count": null,
   "id": "5dea5b0a",
   "metadata": {},
   "outputs": [],
   "source": [
    "print(adam) #printing the object"
   ]
  },
  {
   "cell_type": "markdown",
   "id": "a316ee28",
   "metadata": {},
   "source": [
    "#### 3. Adding attributes to a class"
   ]
  },
  {
   "cell_type": "code",
   "execution_count": null,
   "id": "8a3008b7",
   "metadata": {},
   "outputs": [],
   "source": [
    "# function now takes two arguments after self: name and age. These then get assigned to self.name and self.age respectively\n",
    "## 1st Step: Defining the Class\n",
    "class Human:\n",
    "\n",
    "    def __init__(self, name, age):  \n",
    "        self.name = name\n",
    "        self.age = age"
   ]
  },
  {
   "cell_type": "code",
   "execution_count": null,
   "id": "526bebde",
   "metadata": {},
   "outputs": [],
   "source": [
    "## 2nd Step: Calling the Class\n",
    "adam = Human(\"adam kate\", 22)# adam: name - attribute, 22: age - attribute"
   ]
  },
  {
   "cell_type": "code",
   "execution_count": null,
   "id": "5858abf6",
   "metadata": {},
   "outputs": [],
   "source": [
    "#Accessing the Object Attributes:\n",
    "print(adam.name + \" is \" + str(adam.age) + \" year(s) old.\")"
   ]
  },
  {
   "cell_type": "markdown",
   "id": "bd1cc493",
   "metadata": {},
   "source": [
    "#### 4. Defining Methods in a class"
   ]
  },
  {
   "cell_type": "code",
   "execution_count": null,
   "id": "4ef648dd",
   "metadata": {},
   "outputs": [],
   "source": [
    "class Human:\n",
    "\n",
    "    def __init__(self, name, age):  \n",
    "        self.name = name\n",
    "        self.age = age\n",
    "\n",
    "    def think(self):#Method\n",
    "        print(\"thinking is an important skill..\")"
   ]
  },
  {
   "cell_type": "code",
   "execution_count": null,
   "id": "70d60014",
   "metadata": {},
   "outputs": [],
   "source": [
    "adam = Human(\"adam\", 22)"
   ]
  },
  {
   "cell_type": "code",
   "execution_count": null,
   "id": "baeead57",
   "metadata": {},
   "outputs": [],
   "source": [
    "adam.age"
   ]
  },
  {
   "cell_type": "code",
   "execution_count": null,
   "id": "dd5531d0",
   "metadata": {},
   "outputs": [],
   "source": [
    "#Calling the method\n",
    "adam.think()"
   ]
  },
  {
   "cell_type": "code",
   "execution_count": null,
   "id": "8e4c701e",
   "metadata": {},
   "outputs": [],
   "source": [
    "class Human:\n",
    "\n",
    "    def __init__(self, name, age):  \n",
    "        self.name = name\n",
    "        self.age = age\n",
    "\n",
    "    def think(self):#Method\n",
    "        print(\"thinking is a important skill..\")\n",
    "    \n",
    "    def info(self):#Method\n",
    "        print(self.name + \" is \" + str(self.age) + \" year(s) old.\")"
   ]
  },
  {
   "cell_type": "code",
   "execution_count": null,
   "id": "9cbe1c69",
   "metadata": {},
   "outputs": [],
   "source": [
    "adam = Human(\"adam\", 22)"
   ]
  },
  {
   "cell_type": "code",
   "execution_count": null,
   "id": "0c06ceba",
   "metadata": {},
   "outputs": [],
   "source": [
    "#Calling the method\n",
    "adam.info()"
   ]
  },
  {
   "cell_type": "code",
   "execution_count": null,
   "id": "1166fcea",
   "metadata": {},
   "outputs": [],
   "source": [
    "## Using classes for multiple instances:\n",
    "alisa = Human(\"alisa\", 21)\n",
    "karthik = Human(\"karthik\", 22)\n",
    "loui= Human(\"loui\", 21)"
   ]
  },
  {
   "cell_type": "code",
   "execution_count": null,
   "id": "811cfa23",
   "metadata": {},
   "outputs": [],
   "source": [
    "#Calling the instances\n",
    "alisa.info()\n",
    "karthik.info()\n",
    "loui.info()"
   ]
  },
  {
   "cell_type": "code",
   "execution_count": null,
   "id": "dab96480",
   "metadata": {},
   "outputs": [],
   "source": [
    "#Updating the elements in a class\n",
    "alisa.age = 22"
   ]
  },
  {
   "cell_type": "code",
   "execution_count": null,
   "id": "a541ac03",
   "metadata": {},
   "outputs": [],
   "source": [
    "alisa.info()"
   ]
  },
  {
   "cell_type": "code",
   "execution_count": null,
   "id": "11476b9f",
   "metadata": {},
   "outputs": [],
   "source": [
    "#Updating new value to the attribute:\n",
    "\n",
    "class Human:\n",
    "\n",
    "    def __init__(self, name, age):  \n",
    "        self.name = name\n",
    "        self.age = age\n",
    "    def think(self):#Method\n",
    "        print(\"thinking is a important skill..\")\n",
    "    \n",
    "    def info(self):#Method\n",
    "        print(self.name + \" is \" + str(self.age) + \" year(s) old.\")\n",
    "        \n",
    "    def new_info(self):#Method\n",
    "        self.age +=1\n",
    "        print(self.name + \" new age is  \" + str(self.age))\n",
    "\n"
   ]
  },
  {
   "cell_type": "code",
   "execution_count": null,
   "id": "d510b2ca",
   "metadata": {},
   "outputs": [],
   "source": [
    "## Using classes for multiple instances:\n",
    "alisa = Human(\"alisa\", 21)\n",
    "karthik = Human(\"karthik\", 22)\n",
    "loui= Human(\"loui\", 21)"
   ]
  },
  {
   "cell_type": "code",
   "execution_count": null,
   "id": "3c005cb3",
   "metadata": {},
   "outputs": [],
   "source": [
    "alisa.age"
   ]
  },
  {
   "cell_type": "markdown",
   "id": "91c6daef",
   "metadata": {},
   "source": [
    "#### Passing arguments to methods"
   ]
  },
  {
   "cell_type": "code",
   "execution_count": 1,
   "id": "315a0f3f",
   "metadata": {},
   "outputs": [],
   "source": [
    "#Updating new value to the attribute:\n",
    "## setBuddy() method below. It takes self, as per usual, and buddy as arguments\n",
    "\n",
    "class Human:\n",
    "\n",
    "    def __init__(self, name, age):  \n",
    "        self.name = name\n",
    "        self.age = age\n",
    "    def think(self):#Method\n",
    "        print(\"thinking is a important skill..\")\n",
    "    \n",
    "    def info(self):#Method\n",
    "        print(self.name + \" is \" + str(self.age) + \" year(s) old.\")\n",
    "        \n",
    "    def new_info(self):#Method\n",
    "        self.age +=1\n",
    "        print(self.name + \" new age is  \" + str(self.age))\n",
    "\n",
    "    def setBuddy(self, buddy): #Including a method with an additional argument\n",
    "            self.buddy = buddy\n",
    "            buddy.buddy = self"
   ]
  },
  {
   "cell_type": "code",
   "execution_count": 2,
   "id": "d5a4e2fd",
   "metadata": {},
   "outputs": [],
   "source": [
    "## Using classes for multiple instances:\n",
    "alisa = Human(\"alisa\", 21)\n",
    "adam = Human(\"adam\", 22)\n"
   ]
  },
  {
   "cell_type": "code",
   "execution_count": null,
   "id": "5a74ef17",
   "metadata": {},
   "outputs": [],
   "source": [
    "adam.name"
   ]
  },
  {
   "cell_type": "code",
   "execution_count": null,
   "id": "4e01c9eb",
   "metadata": {},
   "outputs": [],
   "source": [
    "alisa.name"
   ]
  },
  {
   "cell_type": "code",
   "execution_count": 3,
   "id": "24979bc6",
   "metadata": {},
   "outputs": [],
   "source": [
    "adam.setBuddy(alisa) # adam --> object of Human class, setBuddy -->method, alisa --> is the argument in the method"
   ]
  },
  {
   "cell_type": "code",
   "execution_count": 4,
   "id": "5ed1b72e",
   "metadata": {},
   "outputs": [
    {
     "data": {
      "text/plain": [
       "'alisa'"
      ]
     },
     "execution_count": 4,
     "metadata": {},
     "output_type": "execute_result"
    }
   ],
   "source": [
    "adam.buddy.name"
   ]
  },
  {
   "cell_type": "code",
   "execution_count": null,
   "id": "2aa64f2c",
   "metadata": {},
   "outputs": [],
   "source": [
    "adam.buddy.age"
   ]
  },
  {
   "cell_type": "code",
   "execution_count": 6,
   "id": "8a49b103",
   "metadata": {},
   "outputs": [
    {
     "data": {
      "text/plain": [
       "22"
      ]
     },
     "execution_count": 6,
     "metadata": {},
     "output_type": "execute_result"
    }
   ],
   "source": [
    "alisa.buddy.age"
   ]
  },
  {
   "cell_type": "code",
   "execution_count": null,
   "id": "32f7e903",
   "metadata": {},
   "outputs": [],
   "source": []
  }
 ],
 "metadata": {
  "kernelspec": {
   "display_name": "Python 3",
   "language": "python",
   "name": "python3"
  },
  "language_info": {
   "codemirror_mode": {
    "name": "ipython",
    "version": 3
   },
   "file_extension": ".py",
   "mimetype": "text/x-python",
   "name": "python",
   "nbconvert_exporter": "python",
   "pygments_lexer": "ipython3",
   "version": "3.8.8"
  }
 },
 "nbformat": 4,
 "nbformat_minor": 5
}
